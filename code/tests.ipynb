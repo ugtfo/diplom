{
  "metadata": {
    "kernelspec": {
      "name": "python",
      "display_name": "Python (Pyodide)",
      "language": "python"
    },
    "language_info": {
      "codemirror_mode": {
        "name": "python",
        "version": 3
      },
      "file_extension": ".py",
      "mimetype": "text/x-python",
      "name": "python",
      "nbconvert_exporter": "python",
      "pygments_lexer": "ipython3",
      "version": "3.8"
    }
  },
  "nbformat_minor": 4,
  "nbformat": 4,
  "cells": [
    {
      "cell_type": "code",
      "source": "%pip install pandas",
      "metadata": {
        "trusted": true
      },
      "outputs": [],
      "execution_count": 2
    },
    {
      "cell_type": "code",
      "source": "%pip install scipy",
      "metadata": {
        "trusted": true
      },
      "outputs": [],
      "execution_count": 3
    },
    {
      "cell_type": "code",
      "source": "%pip install ipywidgets",
      "metadata": {
        "trusted": true
      },
      "outputs": [],
      "execution_count": 7
    },
    {
      "cell_type": "code",
      "source": "import unittest\nimport pandas as pd\nimport numpy as np\nfrom io import StringIO\n\ndef load_goals_from_csv(file_like):\n    return pd.read_csv(file_like)\n\ndef select_top_communicative_goals(weighted_goals, reweighted_goals, top_n=3):\n    combined_goals = pd.merge(weighted_goals, reweighted_goals, on='goal', how='outer')\n    combined_goals['final_weight'] = (\n        combined_goals['weight'].fillna(0) + combined_goals['reweight'].fillna(0)\n    )\n    # Приводим тип к float для корректной работы nlargest\n    combined_goals['final_weight'] = combined_goals['final_weight'].astype(float)\n    top_goals = combined_goals.nlargest(top_n, 'final_weight')\n    return top_goals\n\nclass TestGoalFunctions(unittest.TestCase):\n\n    def setUp(self):\n        # Набор данных 1\n        self.weighted_goals_csv_1 = StringIO(\"\"\"\ngoal,weight,duration\nGoal 1,5,10\nGoal 2,3,15\nGoal 3,4,5\nGoal 4,2,20\n\"\"\")\n        self.reweighted_goals_csv_1 = StringIO(\"\"\"\ngoal,reweight\nGoal 1,1\nGoal 2,2\nGoal 3,0\nGoal 4,3\n\"\"\")\n\n        # Набор данных 2\n        self.weighted_goals_csv_2 = StringIO(\"\"\"\ngoal,weight,duration\nGoal A,7,12\nGoal B,6,18\nGoal C,5,8\nGoal D,4,25\n\"\"\")\n        self.reweighted_goals_csv_2 = StringIO(\"\"\"\ngoal,reweight\nGoal A,2\nGoal B,1\nGoal C,3\nGoal D,0\n\"\"\")\n\n        # Набор данных 3\n        self.weighted_goals_csv_3 = StringIO(\"\"\"\ngoal,weight,duration\nGoal X,10,30\nGoal Y,8,14\nGoal Z,6,22\nGoal W,4,10\n\"\"\")\n        self.reweighted_goals_csv_3 = StringIO(\"\"\"\ngoal,reweight\nGoal X,5\nGoal Y,2\nGoal Z,1\nGoal W,3\n\"\"\")\n\n        # Набор данных 4\n        self.weighted_goals_csv_4 = StringIO(\"\"\"\ngoal,weight,duration\nTask 1,9,15\nTask 2,8,10\nTask 3,7,20\nTask 4,6,25\n\"\"\")\n        self.reweighted_goals_csv_4 = StringIO(\"\"\"\ngoal,reweight\nTask 1,4\nTask 2,3\nTask 3,2\nTask 4,1\n\"\"\")\n\n        # Набор данных 5\n        self.weighted_goals_csv_5 = StringIO(\"\"\"\ngoal,weight,duration\nAim 1,12,18\nAim 2,11,16\nAim 3,10,14\nAim 4,9,12\n\"\"\")\n        self.reweighted_goals_csv_5 = StringIO(\"\"\"\ngoal,reweight\nAim 1,6\nAim 2,5\nAim 3,4\nAim 4,3\n\"\"\")\n\n        # Список наборов данных для тестирования\n        self.data_sets = [\n            (self.weighted_goals_csv_1, self.reweighted_goals_csv_1),\n            (self.weighted_goals_csv_2, self.reweighted_goals_csv_2),\n            (self.weighted_goals_csv_3, self.reweighted_goals_csv_3),\n            (self.weighted_goals_csv_4, self.reweighted_goals_csv_4),\n            (self.weighted_goals_csv_5, self.reweighted_goals_csv_5),\n        ]\n\n    def test_load_goals_from_csv(self):\n        for weighted_csv, reweighted_csv in self.data_sets:\n            weighted_csv.seek(0)\n            df = load_goals_from_csv(weighted_csv)\n            self.assertEqual(len(df), 4, \"Должно быть загружено 4 цели.\")\n            self.assertIn('goal', df.columns, \"Столбец 'goal' должен присутствовать.\")\n\n    def test_select_top_communicative_goals(self):\n        for weighted_csv, reweighted_csv in self.data_sets:\n            weighted_csv.seek(0)\n            reweighted_csv.seek(0)\n            weighted_goals = pd.read_csv(weighted_csv)\n            reweighted_goals = pd.read_csv(reweighted_csv)\n            top_goals = select_top_communicative_goals(weighted_goals, reweighted_goals)\n            self.assertEqual(len(top_goals), 3, \"Должно быть выбрано 3 топ цели.\")\n            self.assertIn('final_weight', top_goals.columns, \"Столбец 'final_weight' должен присутствовать.\")\n\n    def test_select_top_communicative_goals_no_data(self):\n        empty_weighted = pd.DataFrame(columns=['goal', 'weight', 'duration'])\n        empty_reweighted = pd.DataFrame(columns=['goal', 'reweight'])\n        top_goals = select_top_communicative_goals(empty_weighted, empty_reweighted)\n        self.assertTrue(top_goals.empty, \"Результат должен быть пустым при отсутствии данных.\")\n\nif __name__ == '__main__':\n    unittest.main(argv=[''], exit=False)\n\n    print(\"Все тесты прошли успешно!\")\n",
      "metadata": {
        "trusted": true,
        "scrolled": true
      },
      "outputs": [
        {
          "name": "stderr",
          "output_type": "stream",
          "text": "...\n----------------------------------------------------------------------\nRan 3 tests in 0.081s\n\nOK\n"
        },
        {
          "name": "stdout",
          "output_type": "stream",
          "text": "Все тесты прошли успешно!\n"
        }
      ],
      "execution_count": 10
    },
    {
      "cell_type": "code",
      "source": "",
      "metadata": {
        "trusted": true
      },
      "outputs": [],
      "execution_count": null
    }
  ]
}