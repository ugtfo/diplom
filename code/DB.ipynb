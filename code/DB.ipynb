{
  "metadata": {
    "kernelspec": {
      "name": "python",
      "display_name": "Python (Pyodide)",
      "language": "python"
    },
    "language_info": {
      "codemirror_mode": {
        "name": "python",
        "version": 3
      },
      "file_extension": ".py",
      "mimetype": "text/x-python",
      "name": "python",
      "nbconvert_exporter": "python",
      "pygments_lexer": "ipython3",
      "version": "3.8"
    }
  },
  "nbformat_minor": 4,
  "nbformat": 4,
  "cells": [
    {
      "cell_type": "code",
      "source": "%pip install pandas",
      "metadata": {
        "trusted": true
      },
      "outputs": [],
      "execution_count": 2
    },
    {
      "cell_type": "code",
      "source": "%pip install scipy",
      "metadata": {
        "trusted": true
      },
      "outputs": [],
      "execution_count": 3
    },
    {
      "cell_type": "code",
      "source": "%pip install ipywidgets",
      "metadata": {
        "trusted": true
      },
      "outputs": [],
      "execution_count": 7
    },
    {
      "cell_type": "code",
      "source": "# Импортируем необходимые библиотеки\nimport pandas as pd\nfrom sqlalchemy import create_engine\n\n# Настройки подключения к базе данных PostgreSQL\ndb_user = 'user'        \ndb_password = 'password'   \ndb_host = 'localhost'             \ndb_port = '5432'                  \ndb_name = 'postgres'         \n\n# Создаем строку подключения\nconnection_string = f'postgresql://{db_user}:{db_password}@{db_host}:{db_port}/{db_name}'\nengine = create_engine(connection_string)\n\n# Список таблиц и соответствующих файлов для сохранения\ntables_and_files = {\n    'reweighted_goals_choleric': 'reweighted_goals_choleric.csv',\n    'reweighted_goals_phlegmatic': 'reweighted_goals_phlegmatic.csv',\n    'reweighted_goals_sanguine': 'reweighted_goals_sanguine.csv',\n    'reweighted_goals_melancholic': 'reweighted_goals_melancholic.csv',\n    'weighted_goals': 'weighted_goals.csv'\n}\n\n# Извлечение и сохранение таблиц в CSV файлы\nfor table, filename in tables_and_files.items():\n    try:\n        # Читаем таблицу из базы данных\n        df = pd.read_sql_table(table, engine)\n        \n        # Сохраняем DataFrame в CSV файл\n        df.to_csv(filename, index=False)\n        print(f'Table {table} saved to {filename}')\n    except Exception as e:\n        print(f'Error processing table {table}: {e}')\n",
      "metadata": {
        "trusted": true,
        "scrolled": true
      },
      "outputs": [
        {
          "output_type": "display_data",
          "data": {
            "text/plain": "Dropdown(description='Темперамент:', options=('choleric', 'phlegmatic', 'sanguine', 'melancholic'), value='cho…",
            "application/vnd.jupyter.widget-view+json": {
              "version_major": 2,
              "version_minor": 0,
              "model_id": "629fde50207c4c5193cb57015683669f"
            }
          },
          "metadata": {}
        },
        {
          "output_type": "display_data",
          "data": {
            "text/plain": "Button(description='Выбрать цель', style=ButtonStyle())",
            "application/vnd.jupyter.widget-view+json": {
              "version_major": 2,
              "version_minor": 0,
              "model_id": "14e71935b8ea4b3bb17cd91491792024"
            }
          },
          "metadata": {}
        },
        {
          "output_type": "display_data",
          "data": {
            "text/plain": "Output()",
            "application/vnd.jupyter.widget-view+json": {
              "version_major": 2,
              "version_minor": 0,
              "model_id": "f10b8013ebe343d5a2c663477b15bf9a"
            }
          },
          "metadata": {}
        }
      ],
      "execution_count": 8
    },
    {
      "cell_type": "code",
      "source": "",
      "metadata": {
        "trusted": true
      },
      "outputs": [],
      "execution_count": null
    }
  ]
}