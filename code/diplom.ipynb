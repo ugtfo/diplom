{
  "metadata": {
    "kernelspec": {
      "name": "python",
      "display_name": "Python (Pyodide)",
      "language": "python"
    },
    "language_info": {
      "codemirror_mode": {
        "name": "python",
        "version": 3
      },
      "file_extension": ".py",
      "mimetype": "text/x-python",
      "name": "python",
      "nbconvert_exporter": "python",
      "pygments_lexer": "ipython3",
      "version": "3.8"
    }
  },
  "nbformat_minor": 4,
  "nbformat": 4,
  "cells": [
    {
      "cell_type": "code",
      "source": "%pip install pandas",
      "metadata": {
        "trusted": true
      },
      "outputs": [],
      "execution_count": null
    },
    {
      "cell_type": "code",
      "source": "%pip install scipy",
      "metadata": {
        "trusted": true
      },
      "outputs": [],
      "execution_count": 3
    },
    {
      "cell_type": "code",
      "source": "%pip install ipywidgets",
      "metadata": {
        "trusted": true
      },
      "outputs": [],
      "execution_count": 1
    },
    {
      "cell_type": "code",
      "source": "import pandas as pd\nimport ipywidgets as widgets\nfrom IPython.display import display, clear_output\nimport matplotlib.pyplot as plt\nimport numpy as np\nimport os\n\ndef load_goals_from_csv(file_path):\n    return pd.read_csv(file_path)\n\ndef load_reweighted_goals(file_path):\n    return pd.read_csv(file_path)\n\ndef select_top_communicative_goals(weighted_goals, reweighted_goals, top_n=3):\n    combined_goals = pd.merge(weighted_goals, reweighted_goals, on='goal', how='outer')\n    combined_goals['final_weight'] = combined_goals['weight'].fillna(0) + combined_goals['reweight'].fillna(0)\n    top_goals = combined_goals.nlargest(top_n, 'final_weight')\n    return top_goals\n\ndef plot_goals(top_goals, temperament):\n    plt.figure(figsize=(10, 5))\n    \n    max_duration = top_goals['duration'].max()\n    time = np.linspace(0, max_duration, num=100)\n    max_weights_at_x = np.zeros_like(time)\n\n    for index, row in top_goals.iterrows():\n        goal = row['goal']\n        weight = row['final_weight']\n        duration = row['duration']\n        \n        if duration <= 0:\n            print(f\"Длительность для цели '{goal}' некорректна: {duration}. Пропускаем.\")\n            continue\n        \n        weights = np.where(time <= duration, weight * (1 - time / duration), 0)\n        max_weights_at_x = np.maximum(max_weights_at_x, weights)\n\n        plt.plot(time, weights, label=goal)\n\n    plt.plot(time, max_weights_at_x, color='black', linestyle='--', label='Максимальные значения')\n\n    plt.title(f'Вес коммуникативных целей по времени реализации ({temperament})')\n    plt.xlabel('Время реализации (минуты)')\n    plt.ylabel('Вес цели')\n    plt.legend()\n    plt.grid()\n    plt.show()\n\nprint(f\"\"\"\\nВ выпадающем меню ниже предоставлен выбор из ситуаций по номерам. Соответствие ситуаций и обозначений следующее.\nSituation 1: Вы узнали, что ваш друг расстроен из-за разрыва отношений.\nSituation 2: На встрече друзей кто-то начинает спорить о политике.\nSituation 3: На встрече с заказчиком возникло недопонимание по выполненной части проекта.\nSituation 4: Ваш знакомый хочет узнать ваше мнение о его новой идее.\nSituation 5: Вы заметили, что ваш друг стал менее общительным.\nSituation 6: На семейном празднике возникли споры о том, что делать дальше.\nSituation 7: Ваш коллега не справляется с задачами и просит помощи.\nSituation 8: Вы узнали о проблемах в команде на работе, при этом ответственность за проект лежит на всех участниках команды, а срок сдачи близок.\nSituation 9: Ваш знакомый делится с вами своими переживаниями о будущем.\nSituation 10: Ваш близкий человек говорит, что у него или у нее финансовые проблемы.\nSituation 11: У вас спросили: \"Как дела?\".\nSituation 12: Вы указываете коллеге, что он ошибся и сделал не то, что требовалось. Он в ответ возмущается, что я его критикую.\nSituation 13: В вашей группе кто-то сделал проект лучше и раньше всех.\nSituation 14: Вас попросили объяснить теорию вероятностей.\"\"\")\n\n# Создание интерфейса\nsituation_dropdown = widgets.Dropdown(\n    options=['Situation 1', 'Situation 2', 'Situation 3', 'Situation 4', 'Situation 5', 'Situation 6', 'Situation 7', 'Situation 8', 'Situation 9', 'Situation 10', 'Situation 11', 'Situation 12', 'Situation 13', 'Situation 14'], \n    description='Ситуация:',\n)\n\nload_button = widgets.Button(description='Выбрать цели')\noutput = widgets.Output()\n\n# Обработчик события нажатия кнопки\ndef on_button_click(b):\n    with output:\n        clear_output()\n        user_situation = situation_dropdown.value\n        \n        # Определяем путь к папке с данными в зависимости от выбранной ситуации\n        data_folder = f'data/{user_situation}'\n        \n        # Загружаем взвешенные цели\n        weighted_goals_path = os.path.join(data_folder, 'weighted_goals.csv')\n        weighted_goals = load_goals_from_csv(weighted_goals_path)\n\n        # Перечень темпераментов для отображения графиков\n        temperaments = ['choleric', 'phlegmatic', 'sanguine', 'melancholic', 'without']\n\n        for temperament in temperaments:\n            # Загрузка перевзвешенных целей в зависимости от темперамента\n            reweighted_goals_path = os.path.join(data_folder, f'reweighted_goals_{temperament}.csv')\n            reweighted_goals = load_reweighted_goals(reweighted_goals_path)\n\n            # Выбор трех коммуникативных целей\n            selected_goals = select_top_communicative_goals(weighted_goals, reweighted_goals)\n            \n            print(f\"\\nВыбранные коммуникативные цели для реализации ({temperament}):\")\n            for goal in selected_goals['goal']:\n                print(f\"- {goal}\")\n            \n            # Построение графика для выбранных целей\n            plot_goals(selected_goals, temperament)\n\n# Привязка обработчика к кнопке\nload_button.on_click(on_button_click)\n\n# Отображение элементов интерфейса\ndisplay(situation_dropdown, load_button, output)\n",
      "metadata": {
        "trusted": true,
        "scrolled": true
      },
      "outputs": [
        {
          "name": "stdout",
          "output_type": "stream",
          "text": "\nВ выпадающем меню ниже предоставлен выбор из ситуаций по номерам. Соответствие ситуаций и обозначений следующее.\nSituation 1: Вы узнали, что ваш друг расстроен из-за разрыва отношений.\nSituation 2: На встрече друзей кто-то начинает спорить о политике.\nSituation 3: На встрече с заказчиком возникло недопонимание по выполненной части проекта.\nSituation 4: Ваш знакомый хочет узнать ваше мнение о его новой идее.\nSituation 5: Вы заметили, что ваш друг стал менее общительным.\nSituation 6: На семейном празднике возникли споры о том, что делать дальше.\nSituation 7: Ваш коллега не справляется с задачами и просит помощи.\nSituation 8: Вы узнали о проблемах в команде на работе, при этом ответственность за проект лежит на всех участниках команды, а срок сдачи близок.\nSituation 9: Ваш знакомый делится с вами своими переживаниями о будущем.\nSituation 10: Ваш близкий человек говорит, что у него или у нее финансовые проблемы.\nSituation 11: У вас спросили: \"Как дела?\".\nSituation 12: Вы указываете коллеге, что он ошибся и сделал не то, что требовалось. Он в ответ возмущается, что я его критикую.\nSituation 13: В вашей группе кто-то сделал проект лучше и раньше всех.\nSituation 14: Вас попросили объяснить теорию вероятностей.\n"
        },
        {
          "output_type": "display_data",
          "data": {
            "text/plain": "Dropdown(description='Ситуация:', options=('Situation 1', 'Situation 2', 'Situation 3', 'Situation 4', 'Situat…",
            "application/vnd.jupyter.widget-view+json": {
              "version_major": 2,
              "version_minor": 0,
              "model_id": "b1baeb6056354a3499cdc21d0e1bf613"
            }
          },
          "metadata": {}
        },
        {
          "output_type": "display_data",
          "data": {
            "text/plain": "Button(description='Выбрать цели', style=ButtonStyle())",
            "application/vnd.jupyter.widget-view+json": {
              "version_major": 2,
              "version_minor": 0,
              "model_id": "173634c2630e4152828a0d86edd372c5"
            }
          },
          "metadata": {}
        },
        {
          "output_type": "display_data",
          "data": {
            "text/plain": "Output()",
            "application/vnd.jupyter.widget-view+json": {
              "version_major": 2,
              "version_minor": 0,
              "model_id": "9d2fde75ec25466cae7d86a8d3964d91"
            }
          },
          "metadata": {}
        }
      ],
      "execution_count": 5
    },
    {
      "cell_type": "code",
      "source": "",
      "metadata": {
        "trusted": true
      },
      "outputs": [],
      "execution_count": null
    }
  ]
}